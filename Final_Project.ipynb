{
  "nbformat": 4,
  "nbformat_minor": 0,
  "metadata": {
    "colab": {
      "provenance": [],
      "include_colab_link": true
    },
    "kernelspec": {
      "name": "python3",
      "display_name": "Python 3"
    },
    "language_info": {
      "name": "python"
    }
  },
  "cells": [
    {
      "cell_type": "markdown",
      "metadata": {
        "id": "view-in-github",
        "colab_type": "text"
      },
      "source": [
        "<a href=\"https://colab.research.google.com/github/ShivamSharma1098/Hospital-Readmissions/blob/main/Final_Project.ipynb\" target=\"_parent\"><img src=\"https://colab.research.google.com/assets/colab-badge.svg\" alt=\"Open In Colab\"/></a>"
      ]
    },
    {
      "cell_type": "code",
      "execution_count": 1,
      "metadata": {
        "colab": {
          "base_uri": "https://localhost:8080/"
        },
        "id": "8BMqITUEwinZ",
        "outputId": "61f1beb1-a8f4-4bea-8c55-308ab390dd76"
      },
      "outputs": [
        {
          "output_type": "stream",
          "name": "stdout",
          "text": [
            "Requirement already satisfied: pyspark in /usr/local/lib/python3.10/dist-packages (3.5.1)\n",
            "Requirement already satisfied: py4j==0.10.9.7 in /usr/local/lib/python3.10/dist-packages (from pyspark) (0.10.9.7)\n"
          ]
        }
      ],
      "source": [
        "! pip install pyspark"
      ]
    },
    {
      "cell_type": "code",
      "source": [
        "from pyspark.sql import SparkSession\n",
        "session= SparkSession.builder.appName(\"finalProject\").getOrCreate()"
      ],
      "metadata": {
        "id": "RrWDM77SwkkK"
      },
      "execution_count": 2,
      "outputs": []
    },
    {
      "cell_type": "code",
      "source": [
        "data=session.read.csv('diabetic_data.csv', header=True, inferSchema=True)"
      ],
      "metadata": {
        "id": "i_fQg9EYxdZW"
      },
      "execution_count": 3,
      "outputs": []
    },
    {
      "cell_type": "code",
      "source": [
        "#print(\"Number of observations:\",data.count())\n",
        "\n",
        "data.describe().show()\n"
      ],
      "metadata": {
        "colab": {
          "base_uri": "https://localhost:8080/"
        },
        "id": "_sef81q3x_LF",
        "outputId": "64a3ce1a-a6b0-4666-938d-8391835d8254"
      },
      "execution_count": 4,
      "outputs": [
        {
          "output_type": "stream",
          "name": "stdout",
          "text": [
            "+-------+--------------------+--------------------+------+---------------+--------+--------+-----------------+------------------------+-------------------+------------------+----------+-----------------+------------------+------------------+------------------+-------------------+-------------------+------------------+------------------+------------------+------------------+-----------------+-------------+---------+---------+-----------+-----------+--------------+-----------+-------------+---------+---------+-----------+------------+-------------+--------+--------+------------+----------+-------+-----------+-------+-------------------+-------------------+------------------------+-----------------------+----------------------+------+-----------+----------+\n",
            "|summary|        encounter_id|         patient_nbr|  race|         gender|     age|  weight|admission_type_id|discharge_disposition_id|admission_source_id|  time_in_hospital|payer_code|medical_specialty|num_lab_procedures|    num_procedures|   num_medications|  number_outpatient|   number_emergency|  number_inpatient|            diag_1|            diag_2|            diag_3| number_diagnoses|max_glu_serum|A1Cresult|metformin|repaglinide|nateglinide|chlorpropamide|glimepiride|acetohexamide|glipizide|glyburide|tolbutamide|pioglitazone|rosiglitazone|acarbose|miglitol|troglitazone|tolazamide|examide|citoglipton|insulin|glyburide-metformin|glipizide-metformin|glimepiride-pioglitazone|metformin-rosiglitazone|metformin-pioglitazone|change|diabetesMed|readmitted|\n",
            "+-------+--------------------+--------------------+------+---------------+--------+--------+-----------------+------------------------+-------------------+------------------+----------+-----------------+------------------+------------------+------------------+-------------------+-------------------+------------------+------------------+------------------+------------------+-----------------+-------------+---------+---------+-----------+-----------+--------------+-----------+-------------+---------+---------+-----------+------------+-------------+--------+--------+------------+----------+-------+-----------+-------+-------------------+-------------------+------------------------+-----------------------+----------------------+------+-----------+----------+\n",
            "|  count|              101766|              101766|101766|         101766|  101766|  101766|           101766|                  101766|             101766|            101766|    101766|           101766|            101766|            101766|            101766|             101766|             101766|            101766|            101766|            101766|            101766|           101766|       101766|   101766|   101766|     101766|     101766|        101766|     101766|       101766|   101766|   101766|     101766|      101766|       101766|  101766|  101766|      101766|    101766| 101766|     101766| 101766|             101766|             101766|                  101766|                 101766|                101766|101766|     101766|    101766|\n",
            "|   mean| 1.652016456229782E8|5.4330400694947235E7|  NULL|           NULL|    NULL|    NULL|2.024006053102215|      3.7156417664052825|  5.754436648782501| 4.395986871843248|      NULL|             NULL| 43.09564098028811| 1.339730361810428|16.021844230882614|0.36935715268360747|0.19783621248747127| 0.635565906098304| 493.5830703296747| 438.6748831822925| 418.1792854069344|7.422606764538254|         NULL|     NULL|     NULL|       NULL|       NULL|          NULL|       NULL|         NULL|     NULL|     NULL|       NULL|        NULL|         NULL|    NULL|    NULL|        NULL|      NULL|   NULL|       NULL|   NULL|               NULL|               NULL|                    NULL|                   NULL|                  NULL|  NULL|       NULL|      NULL|\n",
            "| stddev|1.0264029598345739E8|3.8696359346534446E7|  NULL|           NULL|    NULL|    NULL|1.445402829756117|       5.280165509299278|  4.064080834283905|2.9851077674712636|      NULL|             NULL|19.674362249142053|1.7058069791211619| 8.127566209167295| 1.2672650965326762|  0.930472268422466|1.2628632900973216|206.71532043694586|178.90163753828625|177.32397864613594| 1.93360014499743|         NULL|     NULL|     NULL|       NULL|       NULL|          NULL|       NULL|         NULL|     NULL|     NULL|       NULL|        NULL|         NULL|    NULL|    NULL|        NULL|      NULL|   NULL|       NULL|   NULL|               NULL|               NULL|                    NULL|                   NULL|                  NULL|  NULL|       NULL|      NULL|\n",
            "|    min|               12522|                 135|     ?|         Female|  [0-10)|    >200|                1|                       1|                  1|                 1|         ?|                ?|                 1|                 0|                 1|                  0|                  0|                 0|                10|                11|                11|                1|         >200|       >7|     Down|       Down|       Down|          Down|       Down|           No|     Down|     Down|         No|        Down|         Down|    Down|    Down|          No|        No|     No|         No|   Down|               Down|                 No|                      No|                     No|                    No|    Ch|         No|       <30|\n",
            "|    max|           443867222|           189502619| Other|Unknown/Invalid|[90-100)|[75-100)|                8|                      28|                 25|                14|        WC|          Urology|               132|                 6|                81|                 42|                 76|                21|               V71|               V86|               V86|               16|         Norm|     Norm|       Up|         Up|         Up|            Up|         Up|       Steady|       Up|       Up|     Steady|          Up|           Up|      Up|      Up|      Steady|        Up|     No|         No|     Up|                 Up|             Steady|                  Steady|                 Steady|                Steady|    No|        Yes|        NO|\n",
            "+-------+--------------------+--------------------+------+---------------+--------+--------+-----------------+------------------------+-------------------+------------------+----------+-----------------+------------------+------------------+------------------+-------------------+-------------------+------------------+------------------+------------------+------------------+-----------------+-------------+---------+---------+-----------+-----------+--------------+-----------+-------------+---------+---------+-----------+------------+-------------+--------+--------+------------+----------+-------+-----------+-------+-------------------+-------------------+------------------------+-----------------------+----------------------+------+-----------+----------+\n",
            "\n"
          ]
        }
      ]
    },
    {
      "cell_type": "code",
      "source": [
        "from pyspark.sql.functions import col\n",
        "import matplotlib.pyplot as plt\n"
      ],
      "metadata": {
        "id": "wXSikt4e0zOW"
      },
      "execution_count": 5,
      "outputs": []
    },
    {
      "cell_type": "code",
      "source": [
        "data.show(2)"
      ],
      "metadata": {
        "colab": {
          "base_uri": "https://localhost:8080/"
        },
        "id": "3lhIT9nD2OXI",
        "outputId": "97549c3d-1854-41fb-fff8-8c685fd65f75"
      },
      "execution_count": 6,
      "outputs": [
        {
          "output_type": "stream",
          "name": "stdout",
          "text": [
            "+------------+-----------+---------+------+-------+------+-----------------+------------------------+-------------------+----------------+----------+--------------------+------------------+--------------+---------------+-----------------+----------------+----------------+------+------+------+----------------+-------------+---------+---------+-----------+-----------+--------------+-----------+-------------+---------+---------+-----------+------------+-------------+--------+--------+------------+----------+-------+-----------+-------+-------------------+-------------------+------------------------+-----------------------+----------------------+------+-----------+----------+\n",
            "|encounter_id|patient_nbr|     race|gender|    age|weight|admission_type_id|discharge_disposition_id|admission_source_id|time_in_hospital|payer_code|   medical_specialty|num_lab_procedures|num_procedures|num_medications|number_outpatient|number_emergency|number_inpatient|diag_1|diag_2|diag_3|number_diagnoses|max_glu_serum|A1Cresult|metformin|repaglinide|nateglinide|chlorpropamide|glimepiride|acetohexamide|glipizide|glyburide|tolbutamide|pioglitazone|rosiglitazone|acarbose|miglitol|troglitazone|tolazamide|examide|citoglipton|insulin|glyburide-metformin|glipizide-metformin|glimepiride-pioglitazone|metformin-rosiglitazone|metformin-pioglitazone|change|diabetesMed|readmitted|\n",
            "+------------+-----------+---------+------+-------+------+-----------------+------------------------+-------------------+----------------+----------+--------------------+------------------+--------------+---------------+-----------------+----------------+----------------+------+------+------+----------------+-------------+---------+---------+-----------+-----------+--------------+-----------+-------------+---------+---------+-----------+------------+-------------+--------+--------+------------+----------+-------+-----------+-------+-------------------+-------------------+------------------------+-----------------------+----------------------+------+-----------+----------+\n",
            "|     2278392|    8222157|Caucasian|Female| [0-10)|     ?|                6|                      25|                  1|               1|         ?|Pediatrics-Endocr...|                41|             0|              1|                0|               0|               0|250.83|     ?|     ?|               1|         None|     None|       No|         No|         No|            No|         No|           No|       No|       No|         No|          No|           No|      No|      No|          No|        No|     No|         No|     No|                 No|                 No|                      No|                     No|                    No|    No|         No|        NO|\n",
            "|      149190|   55629189|Caucasian|Female|[10-20)|     ?|                1|                       1|                  7|               3|         ?|                   ?|                59|             0|             18|                0|               0|               0|   276|250.01|   255|               9|         None|     None|       No|         No|         No|            No|         No|           No|       No|       No|         No|          No|           No|      No|      No|          No|        No|     No|         No|     Up|                 No|                 No|                      No|                     No|                    No|    Ch|        Yes|       >30|\n",
            "+------------+-----------+---------+------+-------+------+-----------------+------------------------+-------------------+----------------+----------+--------------------+------------------+--------------+---------------+-----------------+----------------+----------------+------+------+------+----------------+-------------+---------+---------+-----------+-----------+--------------+-----------+-------------+---------+---------+-----------+------------+-------------+--------+--------+------------+----------+-------+-----------+-------+-------------------+-------------------+------------------------+-----------------------+----------------------+------+-----------+----------+\n",
            "only showing top 2 rows\n",
            "\n"
          ]
        }
      ]
    },
    {
      "cell_type": "code",
      "source": [
        "target_count = data.groupBy(\"readmitted\").count()\n",
        "target_count_pd = target_count.toPandas().set_index(\"readmitted\")\n",
        "target_count_pd.plot(kind='bar', title='Readmission Count')\n",
        "plt.xlabel('Readmitted')\n",
        "plt.ylabel('Count')\n",
        "plt.show()\n"
      ],
      "metadata": {
        "colab": {
          "base_uri": "https://localhost:8080/",
          "height": 487
        },
        "id": "K4NVSaeOyvQq",
        "outputId": "1944392a-9d4f-4ee8-f4e1-3922df8de0d2"
      },
      "execution_count": 7,
      "outputs": [
        {
          "output_type": "display_data",
          "data": {
            "text/plain": [
              "<Figure size 640x480 with 1 Axes>"
            ],
            "image/png": "[encoded data removed]"
          },
          "metadata": {}
        }
      ]
    },
    {
      "cell_type": "code",
      "source": [
        "data1= data.toPandas()\n",
        "train = data1.copy(deep=True)"
      ],
      "metadata": {
        "id": "tm9yzG510m5v"
      },
      "execution_count": 8,
      "outputs": []
    },
    {
      "cell_type": "code",
      "source": [
        "import pandas as pd"
      ],
      "metadata": {
        "id": "NhIYfKQ35skj"
      },
      "execution_count": 9,
      "outputs": []
    },
    {
      "cell_type": "code",
      "source": [
        "df = []\n",
        "# Checkthe percentage of the missing values\n",
        "for col in train.columns:\n",
        "    if train[col].dtype == object:\n",
        "        count_missing = train[col][train[col] == '?'].count()\n",
        "        percent_missing = (count_missing.sum()/train.shape[0]*100).round(2)\n",
        "#         print(col,count_missing,percent_missing)\n",
        "        df.append([col,count_missing,percent_missing])\n",
        "missing_value=pd.DataFrame(df,columns=[\"col\",\"count_missing\",\"percent_missing\"]).sort_values(by=\"percent_missing\",ascending=False)\n",
        "missing_value"
      ],
      "metadata": {
        "colab": {
          "base_uri": "https://localhost:8080/",
          "height": 1000
        },
        "id": "yQaRayr-5nAK",
        "outputId": "a6b354b1-a9b0-4a2f-c8c7-3bcbc76fa756"
      },
      "execution_count": 10,
      "outputs": [
        {
          "output_type": "execute_result",
          "data": {
            "text/plain": [
              "                         col  count_missing  percent_missing\n",
              "3                     weight          98569            96.86\n",
              "5          medical_specialty          49949            49.08\n",
              "4                 payer_code          40256            39.56\n",
              "0                       race           2273             2.23\n",
              "8                     diag_3           1423             1.40\n",
              "7                     diag_2            358             0.35\n",
              "6                     diag_1             21             0.02\n",
              "29       glyburide-metformin              0             0.00\n",
              "24              troglitazone              0             0.00\n",
              "25                tolazamide              0             0.00\n",
              "26                   examide              0             0.00\n",
              "27               citoglipton              0             0.00\n",
              "28                   insulin              0             0.00\n",
              "33    metformin-pioglitazone              0             0.00\n",
              "30       glipizide-metformin              0             0.00\n",
              "31  glimepiride-pioglitazone              0             0.00\n",
              "32   metformin-rosiglitazone              0             0.00\n",
              "22                  acarbose              0             0.00\n",
              "34                    change              0             0.00\n",
              "35               diabetesMed              0             0.00\n",
              "23                  miglitol              0             0.00\n",
              "18                 glyburide              0             0.00\n",
              "21             rosiglitazone              0             0.00\n",
              "20              pioglitazone              0             0.00\n",
              "19               tolbutamide              0             0.00\n",
              "1                     gender              0             0.00\n",
              "17                 glipizide              0             0.00\n",
              "16             acetohexamide              0             0.00\n",
              "15               glimepiride              0             0.00\n",
              "14            chlorpropamide              0             0.00\n",
              "13               nateglinide              0             0.00\n",
              "12               repaglinide              0             0.00\n",
              "11                 metformin              0             0.00\n",
              "10                 A1Cresult              0             0.00\n",
              "9              max_glu_serum              0             0.00\n",
              "2                        age              0             0.00\n",
              "36                readmitted              0             0.00"
            ],
            "text/html": [
              "\n",
              "  <div id=\"df-74645088-7d02-4399-b910-6718efd551e1\" class=\"colab-df-container\">\n",
              "    <div>\n",
              "<style scoped>\n",
              "    .dataframe tbody tr th:only-of-type {\n",
              "        vertical-align: middle;\n",
              "    }\n",
              "\n",
              "    .dataframe tbody tr th {\n",
              "        vertical-align: top;\n",
              "    }\n",
              "\n",
              "    .dataframe thead th {\n",
              "        text-align: right;\n",
              "    }\n",
              "</style>\n",
              "<table border=\"1\" class=\"dataframe\">\n",
              "  <thead>\n",
              "    <tr style=\"text-align: right;\">\n",
              "      <th></th>\n",
              "      <th>col</th>\n",
              "      <th>count_missing</th>\n",
              "      <th>percent_missing</th>\n",
              "    </tr>\n",
              "  </thead>\n",
              "  <tbody>\n",
              "    <tr>\n",
              "      <th>3</th>\n",
              "      <td>weight</td>\n",
              "      <td>98569</td>\n",
              "      <td>96.86</td>\n",
              "    </tr>\n",
              "    <tr>\n",
              "      <th>5</th>\n",
              "      <td>medical_specialty</td>\n",
              "      <td>49949</td>\n",
              "      <td>49.08</td>\n",
              "    </tr>\n",
              "    <tr>\n",
              "      <th>4</th>\n",
              "      <td>payer_code</td>\n",
              "      <td>40256</td>\n",
              "      <td>39.56</td>\n",
              "    </tr>\n",
              "    <tr>\n",
              "      <th>0</th>\n",
              "      <td>race</td>\n",
              "      <td>2273</td>\n",
              "      <td>2.23</td>\n",
              "    </tr>\n",
              "    <tr>\n",
              "      <th>8</th>\n",
              "      <td>diag_3</td>\n",
              "      <td>1423</td>\n",
              "      <td>1.40</td>\n",
              "    </tr>\n",
              "    <tr>\n",
              "      <th>7</th>\n",
              "      <td>diag_2</td>\n",
              "      <td>358</td>\n",
              "      <td>0.35</td>\n",
              "    </tr>\n",
              "    <tr>\n",
              "      <th>6</th>\n",
              "      <td>diag_1</td>\n",
              "      <td>21</td>\n",
              "      <td>0.02</td>\n",
              "    </tr>\n",
              "    <tr>\n",
              "      <th>29</th>\n",
              "      <td>glyburide-metformin</td>\n",
              "      <td>0</td>\n",
              "      <td>0.00</td>\n",
              "    </tr>\n",
              "    <tr>\n",
              "      <th>24</th>\n",
              "      <td>troglitazone</td>\n",
              "      <td>0</td>\n",
              "      <td>0.00</td>\n",
              "    </tr>\n",
              "    <tr>\n",
              "      <th>25</th>\n",
              "      <td>tolazamide</td>\n",
              "      <td>0</td>\n",
              "      <td>0.00</td>\n",
              "    </tr>\n",
              "    <tr>\n",
              "      <th>26</th>\n",
              "      <td>examide</td>\n",
              "      <td>0</td>\n",
              "      <td>0.00</td>\n",
              "    </tr>\n",
              "    <tr>\n",
              "      <th>27</th>\n",
              "      <td>citoglipton</td>\n",
              "      <td>0</td>\n",
              "      <td>0.00</td>\n",
              "    </tr>\n",
              "    <tr>\n",
              "      <th>28</th>\n",
              "      <td>insulin</td>\n",
              "      <td>0</td>\n",
              "      <td>0.00</td>\n",
              "    </tr>\n",
              "    <tr>\n",
              "      <th>33</th>\n",
              "      <td>metformin-pioglitazone</td>\n",
              "      <td>0</td>\n",
              "      <td>0.00</td>\n",
              "    </tr>\n",
              "    <tr>\n",
              "      <th>30</th>\n",
              "      <td>glipizide-metformin</td>\n",
              "      <td>0</td>\n",
              "      <td>0.00</td>\n",
              "    </tr>\n",
              "    <tr>\n",
              "      <th>31</th>\n",
              "      <td>glimepiride-pioglitazone</td>\n",
              "      <td>0</td>\n",
              "      <td>0.00</td>\n",
              "    </tr>\n",
              "    <tr>\n",
              "      <th>32</th>\n",
              "      <td>metformin-rosiglitazone</td>\n",
              "      <td>0</td>\n",
              "      <td>0.00</td>\n",
              "    </tr>\n",
              "    <tr>\n",
              "      <th>22</th>\n",
              "      <td>acarbose</td>\n",
              "      <td>0</td>\n",
              "      <td>0.00</td>\n",
              "    </tr>\n",
              "    <tr>\n",
              "      <th>34</th>\n",
              "      <td>change</td>\n",
              "      <td>0</td>\n",
              "      <td>0.00</td>\n",
              "    </tr>\n",
              "    <tr>\n",
              "      <th>35</th>\n",
              "      <td>diabetesMed</td>\n",
              "      <td>0</td>\n",
              "      <td>0.00</td>\n",
              "    </tr>\n",
              "    <tr>\n",
              "      <th>23</th>\n",
              "      <td>miglitol</td>\n",
              "      <td>0</td>\n",
              "      <td>0.00</td>\n",
              "    </tr>\n",
              "    <tr>\n",
              "      <th>18</th>\n",
              "      <td>glyburide</td>\n",
              "      <td>0</td>\n",
              "      <td>0.00</td>\n",
              "    </tr>\n",
              "    <tr>\n",
              "      <th>21</th>\n",
              "      <td>rosiglitazone</td>\n",
              "      <td>0</td>\n",
              "      <td>0.00</td>\n",
              "    </tr>\n",
              "    <tr>\n",
              "      <th>20</th>\n",
              "      <td>pioglitazone</td>\n",
              "      <td>0</td>\n",
              "      <td>0.00</td>\n",
              "    </tr>\n",
              "    <tr>\n",
              "      <th>19</th>\n",
              "      <td>tolbutamide</td>\n",
              "      <td>0</td>\n",
              "      <td>0.00</td>\n",
              "    </tr>\n",
              "    <tr>\n",
              "      <th>1</th>\n",
              "      <td>gender</td>\n",
              "      <td>0</td>\n",
              "      <td>0.00</td>\n",
              "    </tr>\n",
              "    <tr>\n",
              "      <th>17</th>\n",
              "      <td>glipizide</td>\n",
              "      <td>0</td>\n",
              "      <td>0.00</td>\n",
              "    </tr>\n",
              "    <tr>\n",
              "      <th>16</th>\n",
              "      <td>acetohexamide</td>\n",
              "      <td>0</td>\n",
              "      <td>0.00</td>\n",
              "    </tr>\n",
              "    <tr>\n",
              "      <th>15</th>\n",
              "      <td>glimepiride</td>\n",
              "      <td>0</td>\n",
              "      <td>0.00</td>\n",
              "    </tr>\n",
              "    <tr>\n",
              "      <th>14</th>\n",
              "      <td>chlorpropamide</td>\n",
              "      <td>0</td>\n",
              "      <td>0.00</td>\n",
              "    </tr>\n",
              "    <tr>\n",
              "      <th>13</th>\n",
              "      <td>nateglinide</td>\n",
              "      <td>0</td>\n",
              "      <td>0.00</td>\n",
              "    </tr>\n",
              "    <tr>\n",
              "      <th>12</th>\n",
              "      <td>repaglinide</td>\n",
              "      <td>0</td>\n",
              "      <td>0.00</td>\n",
              "    </tr>\n",
              "    <tr>\n",
              "      <th>11</th>\n",
              "      <td>metformin</td>\n",
              "      <td>0</td>\n",
              "      <td>0.00</td>\n",
              "    </tr>\n",
              "    <tr>\n",
              "      <th>10</th>\n",
              "      <td>A1Cresult</td>\n",
              "      <td>0</td>\n",
              "      <td>0.00</td>\n",
              "    </tr>\n",
              "    <tr>\n",
              "      <th>9</th>\n",
              "      <td>max_glu_serum</td>\n",
              "      <td>0</td>\n",
              "      <td>0.00</td>\n",
              "    </tr>\n",
              "    <tr>\n",
              "      <th>2</th>\n",
              "      <td>age</td>\n",
              "      <td>0</td>\n",
              "      <td>0.00</td>\n",
              "    </tr>\n",
              "    <tr>\n",
              "      <th>36</th>\n",
              "      <td>readmitted</td>\n",
              "      <td>0</td>\n",
              "      <td>0.00</td>\n",
              "    </tr>\n",
              "  </tbody>\n",
              "</table>\n",
              "</div>\n",
              "    <div class=\"colab-df-buttons\">\n",
              "\n",
              "  <div class=\"colab-df-container\">\n",
              "    <button class=\"colab-df-convert\" onclick=\"convertToInteractive('df-74645088-7d02-4399-b910-6718efd551e1')\"\n",
              "            title=\"Convert this dataframe to an interactive table.\"\n",
              "            style=\"display:none;\">\n",
              "\n",
              "  <svg xmlns=\"http://www.w3.org/2000/svg\" height=\"24px\" viewBox=\"0 -960 960 960\">\n",
              "    <path d=\"M120-120v-720h720v720H120Zm60-500h600v-160H180v160Zm220 220h160v-160H400v160Zm0 220h160v-160H400v160ZM180-400h160v-160H180v160Zm440 0h160v-160H620v160ZM180-180h160v-160H180v160Zm440 0h160v-160H620v160Z\"/>\n",
              "  </svg>\n",
              "    </button>\n",
              "\n",
              "  <style>\n",
              "    .colab-df-container {\n",
              "      display:flex;\n",
              "      gap: 12px;\n",
              "    }\n",
              "\n",
              "    .colab-df-convert {\n",
              "      background-color: #E8F0FE;\n",
              "      border: none;\n",
              "      border-radius: 50%;\n",
              "      cursor: pointer;\n",
              "      display: none;\n",
              "      fill: #1967D2;\n",
              "      height: 32px;\n",
              "      padding: 0 0 0 0;\n",
              "      width: 32px;\n",
              "    }\n",
              "\n",
              "    .colab-df-convert:hover {\n",
              "      background-color: #E2EBFA;\n",
              "      box-shadow: 0px 1px 2px rgba(60, 64, 67, 0.3), 0px 1px 3px 1px rgba(60, 64, 67, 0.15);\n",
              "      fill: #174EA6;\n",
              "    }\n",
              "\n",
              "    .colab-df-buttons div {\n",
              "      margin-bottom: 4px;\n",
              "    }\n",
              "\n",
              "    [theme=dark] .colab-df-convert {\n",
              "      background-color: #3B4455;\n",
              "      fill: #D2E3FC;\n",
              "    }\n",
              "\n",
              "    [theme=dark] .colab-df-convert:hover {\n",
              "      background-color: #434B5C;\n",
              "      box-shadow: 0px 1px 3px 1px rgba(0, 0, 0, 0.15);\n",
              "      filter: drop-shadow(0px 1px 2px rgba(0, 0, 0, 0.3));\n",
              "      fill: #FFFFFF;\n",
              "    }\n",
              "  </style>\n",
              "\n",
              "    <script>\n",
              "      const buttonEl =\n",
              "        document.querySelector('#df-74645088-7d02-4399-b910-6718efd551e1 button.colab-df-convert');\n",
              "      buttonEl.style.display =\n",
              "        google.colab.kernel.accessAllowed ? 'block' : 'none';\n",
              "\n",
              "      async function convertToInteractive(key) {\n",
              "        const element = document.querySelector('#df-74645088-7d02-4399-b910-6718efd551e1');\n",
              "        const dataTable =\n",
              "          await google.colab.kernel.invokeFunction('convertToInteractive',\n",
              "                                                    [key], {});\n",
              "        if (!dataTable) return;\n",
              "\n",
              "        const docLinkHtml = 'Like what you see? Visit the ' +\n",
              "          '<a target=\"_blank\" href=https://colab.research.google.com/notebooks/data_table.ipynb>data table notebook</a>'\n",
              "          + ' to learn more about interactive tables.';\n",
              "        element.innerHTML = '';\n",
              "        dataTable['output_type'] = 'display_data';\n",
              "        await google.colab.output.renderOutput(dataTable, element);\n",
              "        const docLink = document.createElement('div');\n",
              "        docLink.innerHTML = docLinkHtml;\n",
              "        element.appendChild(docLink);\n",
              "      }\n",
              "    </script>\n",
              "  </div>\n",
              "\n",
              "\n",
              "<div id=\"df-dcf95e18-1f1b-4990-9f4b-8a7c110072dd\">\n",
              "  <button class=\"colab-df-quickchart\" onclick=\"quickchart('df-dcf95e18-1f1b-4990-9f4b-8a7c110072dd')\"\n",
              "            title=\"Suggest charts\"\n",
              "            style=\"display:none;\">\n",
              "\n",
              "<svg xmlns=\"http://www.w3.org/2000/svg\" height=\"24px\"viewBox=\"0 0 24 24\"\n",
              "     width=\"24px\">\n",
              "    <g>\n",
              "        <path d=\"M19 3H5c-1.1 0-2 .9-2 2v14c0 1.1.9 2 2 2h14c1.1 0 2-.9 2-2V5c0-1.1-.9-2-2-2zM9 17H7v-7h2v7zm4 0h-2V7h2v10zm4 0h-2v-4h2v4z\"/>\n",
              "    </g>\n",
              "</svg>\n",
              "  </button>\n",
              "\n",
              "<style>\n",
              "  .colab-df-quickchart {\n",
              "      --bg-color: #E8F0FE;\n",
              "      --fill-color: #1967D2;\n",
              "      --hover-bg-color: #E2EBFA;\n",
              "      --hover-fill-color: #174EA6;\n",
              "      --disabled-fill-color: #AAA;\n",
              "      --disabled-bg-color: #DDD;\n",
              "  }\n",
              "\n",
              "  [theme=dark] .colab-df-quickchart {\n",
              "      --bg-color: #3B4455;\n",
              "      --fill-color: #D2E3FC;\n",
              "      --hover-bg-color: #434B5C;\n",
              "      --hover-fill-color: #FFFFFF;\n",
              "      --disabled-bg-color: #3B4455;\n",
              "      --disabled-fill-color: #666;\n",
              "  }\n",
              "\n",
              "  .colab-df-quickchart {\n",
              "    background-color: var(--bg-color);\n",
              "    border: none;\n",
              "    border-radius: 50%;\n",
              "    cursor: pointer;\n",
              "    display: none;\n",
              "    fill: var(--fill-color);\n",
              "    height: 32px;\n",
              "    padding: 0;\n",
              "    width: 32px;\n",
              "  }\n",
              "\n",
              "  .colab-df-quickchart:hover {\n",
              "    background-color: var(--hover-bg-color);\n",
              "    box-shadow: 0 1px 2px rgba(60, 64, 67, 0.3), 0 1px 3px 1px rgba(60, 64, 67, 0.15);\n",
              "    fill: var(--button-hover-fill-color);\n",
              "  }\n",
              "\n",
              "  .colab-df-quickchart-complete:disabled,\n",
              "  .colab-df-quickchart-complete:disabled:hover {\n",
              "    background-color: var(--disabled-bg-color);\n",
              "    fill: var(--disabled-fill-color);\n",
              "    box-shadow: none;\n",
              "  }\n",
              "\n",
              "  .colab-df-spinner {\n",
              "    border: 2px solid var(--fill-color);\n",
              "    border-color: transparent;\n",
              "    border-bottom-color: var(--fill-color);\n",
              "    animation:\n",
              "      spin 1s steps(1) infinite;\n",
              "  }\n",
              "\n",
              "  @keyframes spin {\n",
              "    0% {\n",
              "      border-color: transparent;\n",
              "      border-bottom-color: var(--fill-color);\n",
              "      border-left-color: var(--fill-color);\n",
              "    }\n",
              "    20% {\n",
              "      border-color: transparent;\n",
              "      border-left-color: var(--fill-color);\n",
              "      border-top-color: var(--fill-color);\n",
              "    }\n",
              "    30% {\n",
              "      border-color: transparent;\n",
              "      border-left-color: var(--fill-color);\n",
              "      border-top-color: var(--fill-color);\n",
              "      border-right-color: var(--fill-color);\n",
              "    }\n",
              "    40% {\n",
              "      border-color: transparent;\n",
              "      border-right-color: var(--fill-color);\n",
              "      border-top-color: var(--fill-color);\n",
              "    }\n",
              "    60% {\n",
              "      border-color: transparent;\n",
              "      border-right-color: var(--fill-color);\n",
              "    }\n",
              "    80% {\n",
              "      border-color: transparent;\n",
              "      border-right-color: var(--fill-color);\n",
              "      border-bottom-color: var(--fill-color);\n",
              "    }\n",
              "    90% {\n",
              "      border-color: transparent;\n",
              "      border-bottom-color: var(--fill-color);\n",
              "    }\n",
              "  }\n",
              "</style>\n",
              "\n",
              "  <script>\n",
              "    async function quickchart(key) {\n",
              "      const quickchartButtonEl =\n",
              "        document.querySelector('#' + key + ' button');\n",
              "      quickchartButtonEl.disabled = true;  // To prevent multiple clicks.\n",
              "      quickchartButtonEl.classList.add('colab-df-spinner');\n",
              "      try {\n",
              "        const charts = await google.colab.kernel.invokeFunction(\n",
              "            'suggestCharts', [key], {});\n",
              "      } catch (error) {\n",
              "        console.error('Error during call to suggestCharts:', error);\n",
              "      }\n",
              "      quickchartButtonEl.classList.remove('colab-df-spinner');\n",
              "      quickchartButtonEl.classList.add('colab-df-quickchart-complete');\n",
              "    }\n",
              "    (() => {\n",
              "      let quickchartButtonEl =\n",
              "        document.querySelector('#df-dcf95e18-1f1b-4990-9f4b-8a7c110072dd button');\n",
              "      quickchartButtonEl.style.display =\n",
              "        google.colab.kernel.accessAllowed ? 'block' : 'none';\n",
              "    })();\n",
              "  </script>\n",
              "</div>\n",
              "\n",
              "  <div id=\"id_c5af78b5-06c9-4a15-896c-548bfbb0d67b\">\n",
              "    <style>\n",
              "      .colab-df-generate {\n",
              "        background-color: #E8F0FE;\n",
              "        border: none;\n",
              "        border-radius: 50%;\n",
              "        cursor: pointer;\n",
              "        display: none;\n",
              "        fill: #1967D2;\n",
              "        height: 32px;\n",
              "        padding: 0 0 0 0;\n",
              "        width: 32px;\n",
              "      }\n",
              "\n",
              "      .colab-df-generate:hover {\n",
              "        background-color: #E2EBFA;\n",
              "        box-shadow: 0px 1px 2px rgba(60, 64, 67, 0.3), 0px 1px 3px 1px rgba(60, 64, 67, 0.15);\n",
              "        fill: #174EA6;\n",
              "      }\n",
              "\n",
              "      [theme=dark] .colab-df-generate {\n",
              "        background-color: #3B4455;\n",
              "        fill: #D2E3FC;\n",
              "      }\n",
              "\n",
              "      [theme=dark] .colab-df-generate:hover {\n",
              "        background-color: #434B5C;\n",
              "        box-shadow: 0px 1px 3px 1px rgba(0, 0, 0, 0.15);\n",
              "        filter: drop-shadow(0px 1px 2px rgba(0, 0, 0, 0.3));\n",
              "        fill: #FFFFFF;\n",
              "      }\n",
              "    </style>\n",
              "    <button class=\"colab-df-generate\" onclick=\"generateWithVariable('missing_value')\"\n",
              "            title=\"Generate code using this dataframe.\"\n",
              "            style=\"display:none;\">\n",
              "\n",
              "  <svg xmlns=\"http://www.w3.org/2000/svg\" height=\"24px\"viewBox=\"0 0 24 24\"\n",
              "       width=\"24px\">\n",
              "    <path d=\"M7,19H8.4L18.45,9,17,7.55,7,17.6ZM5,21V16.75L18.45,3.32a2,2,0,0,1,2.83,0l1.4,1.43a1.91,1.91,0,0,1,.58,1.4,1.91,1.91,0,0,1-.58,1.4L9.25,21ZM18.45,9,17,7.55Zm-12,3A5.31,5.31,0,0,0,4.9,8.1,5.31,5.31,0,0,0,1,6.5,5.31,5.31,0,0,0,4.9,4.9,5.31,5.31,0,0,0,6.5,1,5.31,5.31,0,0,0,8.1,4.9,5.31,5.31,0,0,0,12,6.5,5.46,5.46,0,0,0,6.5,12Z\"/>\n",
              "  </svg>\n",
              "    </button>\n",
              "    <script>\n",
              "      (() => {\n",
              "      const buttonEl =\n",
              "        document.querySelector('#id_c5af78b5-06c9-4a15-896c-548bfbb0d67b button.colab-df-generate');\n",
              "      buttonEl.style.display =\n",
              "        google.colab.kernel.accessAllowed ? 'block' : 'none';\n",
              "\n",
              "      buttonEl.onclick = () => {\n",
              "        google.colab.notebook.generateWithVariable('missing_value');\n",
              "      }\n",
              "      })();\n",
              "    </script>\n",
              "  </div>\n",
              "\n",
              "    </div>\n",
              "  </div>\n"
            ],
            "application/vnd.google.colaboratory.intrinsic+json": {
              "type": "dataframe",
              "variable_name": "missing_value",
              "summary": "{\n  \"name\": \"missing_value\",\n  \"rows\": 37,\n  \"fields\": [\n    {\n      \"column\": \"col\",\n      \"properties\": {\n        \"dtype\": \"string\",\n        \"num_unique_values\": 37,\n        \"samples\": [\n          \"acarbose\",\n          \"metformin-pioglitazone\",\n          \"diag_3\"\n        ],\n        \"semantic_type\": \"\",\n        \"description\": \"\"\n      }\n    },\n    {\n      \"column\": \"count_missing\",\n      \"properties\": {\n        \"dtype\": \"number\",\n        \"std\": 18880,\n        \"min\": 0,\n        \"max\": 98569,\n        \"num_unique_values\": 8,\n        \"samples\": [\n          49949,\n          358,\n          98569\n        ],\n        \"semantic_type\": \"\",\n        \"description\": \"\"\n      }\n    },\n    {\n      \"column\": \"percent_missing\",\n      \"properties\": {\n        \"dtype\": \"number\",\n        \"std\": 18.553382517828194,\n        \"min\": 0.0,\n        \"max\": 96.86,\n        \"num_unique_values\": 8,\n        \"samples\": [\n          49.08,\n          0.35,\n          96.86\n        ],\n        \"semantic_type\": \"\",\n        \"description\": \"\"\n      }\n    }\n  ]\n}"
            }
          },
          "metadata": {},
          "execution_count": 10
        }
      ]
    },
    {
      "cell_type": "code",
      "source": [
        "columns_to_drop = ['weight', 'medical_specialty', 'payer_code']\n",
        "train = data.drop(*columns_to_drop)"
      ],
      "metadata": {
        "id": "3wvYmQ575u1_"
      },
      "execution_count": 11,
      "outputs": []
    },
    {
      "cell_type": "code",
      "source": [
        "train.show()"
      ],
      "metadata": {
        "colab": {
          "base_uri": "https://localhost:8080/"
        },
        "id": "3daSyzLN7SDW",
        "outputId": "f176b457-8743-475d-fbc6-4e2e1ddc4b3f"
      },
      "execution_count": 12,
      "outputs": [
        {
          "output_type": "stream",
          "name": "stdout",
          "text": [
            "+------------+-----------+---------------+------+--------+-----------------+------------------------+-------------------+----------------+------------------+--------------+---------------+-----------------+----------------+----------------+------+------+------+----------------+-------------+---------+---------+-----------+-----------+--------------+-----------+-------------+---------+---------+-----------+------------+-------------+--------+--------+------------+----------+-------+-----------+-------+-------------------+-------------------+------------------------+-----------------------+----------------------+------+-----------+----------+\n",
            "|encounter_id|patient_nbr|           race|gender|     age|admission_type_id|discharge_disposition_id|admission_source_id|time_in_hospital|num_lab_procedures|num_procedures|num_medications|number_outpatient|number_emergency|number_inpatient|diag_1|diag_2|diag_3|number_diagnoses|max_glu_serum|A1Cresult|metformin|repaglinide|nateglinide|chlorpropamide|glimepiride|acetohexamide|glipizide|glyburide|tolbutamide|pioglitazone|rosiglitazone|acarbose|miglitol|troglitazone|tolazamide|examide|citoglipton|insulin|glyburide-metformin|glipizide-metformin|glimepiride-pioglitazone|metformin-rosiglitazone|metformin-pioglitazone|change|diabetesMed|readmitted|\n",
            "+------------+-----------+---------------+------+--------+-----------------+------------------------+-------------------+----------------+------------------+--------------+---------------+-----------------+----------------+----------------+------+------+------+----------------+-------------+---------+---------+-----------+-----------+--------------+-----------+-------------+---------+---------+-----------+------------+-------------+--------+--------+------------+----------+-------+-----------+-------+-------------------+-------------------+------------------------+-----------------------+----------------------+------+-----------+----------+\n",
            "|     2278392|    8222157|      Caucasian|Female|  [0-10)|                6|                      25|                  1|               1|                41|             0|              1|                0|               0|               0|250.83|     ?|     ?|               1|         None|     None|       No|         No|         No|            No|         No|           No|       No|       No|         No|          No|           No|      No|      No|          No|        No|     No|         No|     No|                 No|                 No|                      No|                     No|                    No|    No|         No|        NO|\n",
            "|      149190|   55629189|      Caucasian|Female| [10-20)|                1|                       1|                  7|               3|                59|             0|             18|                0|               0|               0|   276|250.01|   255|               9|         None|     None|       No|         No|         No|            No|         No|           No|       No|       No|         No|          No|           No|      No|      No|          No|        No|     No|         No|     Up|                 No|                 No|                      No|                     No|                    No|    Ch|        Yes|       >30|\n",
            "|       64410|   86047875|AfricanAmerican|Female| [20-30)|                1|                       1|                  7|               2|                11|             5|             13|                2|               0|               1|   648|   250|   V27|               6|         None|     None|       No|         No|         No|            No|         No|           No|   Steady|       No|         No|          No|           No|      No|      No|          No|        No|     No|         No|     No|                 No|                 No|                      No|                     No|                    No|    No|        Yes|        NO|\n",
            "|      500364|   82442376|      Caucasian|  Male| [30-40)|                1|                       1|                  7|               2|                44|             1|             16|                0|               0|               0|     8|250.43|   403|               7|         None|     None|       No|         No|         No|            No|         No|           No|       No|       No|         No|          No|           No|      No|      No|          No|        No|     No|         No|     Up|                 No|                 No|                      No|                     No|                    No|    Ch|        Yes|        NO|\n",
            "|       16680|   42519267|      Caucasian|  Male| [40-50)|                1|                       1|                  7|               1|                51|             0|              8|                0|               0|               0|   197|   157|   250|               5|         None|     None|       No|         No|         No|            No|         No|           No|   Steady|       No|         No|          No|           No|      No|      No|          No|        No|     No|         No| Steady|                 No|                 No|                      No|                     No|                    No|    Ch|        Yes|        NO|\n",
            "|       35754|   82637451|      Caucasian|  Male| [50-60)|                2|                       1|                  2|               3|                31|             6|             16|                0|               0|               0|   414|   411|   250|               9|         None|     None|       No|         No|         No|            No|         No|           No|       No|       No|         No|          No|           No|      No|      No|          No|        No|     No|         No| Steady|                 No|                 No|                      No|                     No|                    No|    No|        Yes|       >30|\n",
            "|       55842|   84259809|      Caucasian|  Male| [60-70)|                3|                       1|                  2|               4|                70|             1|             21|                0|               0|               0|   414|   411|   V45|               7|         None|     None|   Steady|         No|         No|            No|     Steady|           No|       No|       No|         No|          No|           No|      No|      No|          No|        No|     No|         No| Steady|                 No|                 No|                      No|                     No|                    No|    Ch|        Yes|        NO|\n",
            "|       63768|  114882984|      Caucasian|  Male| [70-80)|                1|                       1|                  7|               5|                73|             0|             12|                0|               0|               0|   428|   492|   250|               8|         None|     None|       No|         No|         No|            No|         No|           No|       No|   Steady|         No|          No|           No|      No|      No|          No|        No|     No|         No|     No|                 No|                 No|                      No|                     No|                    No|    No|        Yes|       >30|\n",
            "|       12522|   48330783|      Caucasian|Female| [80-90)|                2|                       1|                  4|              13|                68|             2|             28|                0|               0|               0|   398|   427|    38|               8|         None|     None|       No|         No|         No|            No|         No|           No|   Steady|       No|         No|          No|           No|      No|      No|          No|        No|     No|         No| Steady|                 No|                 No|                      No|                     No|                    No|    Ch|        Yes|        NO|\n",
            "|       15738|   63555939|      Caucasian|Female|[90-100)|                3|                       3|                  4|              12|                33|             3|             18|                0|               0|               0|   434|   198|   486|               8|         None|     None|       No|         No|         No|            No|         No|           No|       No|       No|         No|          No|       Steady|      No|      No|          No|        No|     No|         No| Steady|                 No|                 No|                      No|                     No|                    No|    Ch|        Yes|        NO|\n",
            "|       28236|   89869032|AfricanAmerican|Female| [40-50)|                1|                       1|                  7|               9|                47|             2|             17|                0|               0|               0| 250.7|   403|   996|               9|         None|     None|       No|         No|         No|            No|         No|           No|       No|       No|         No|          No|           No|      No|      No|          No|        No|     No|         No| Steady|                 No|                 No|                      No|                     No|                    No|    No|        Yes|       >30|\n",
            "|       36900|   77391171|AfricanAmerican|  Male| [60-70)|                2|                       1|                  4|               7|                62|             0|             11|                0|               0|               0|   157|   288|   197|               7|         None|     None|       No|         No|         No|            No|         No|           No|       No|       Up|         No|          No|           No|      No|      No|          No|        No|     No|         No| Steady|                 No|                 No|                      No|                     No|                    No|    Ch|        Yes|       <30|\n",
            "|       40926|   85504905|      Caucasian|Female| [40-50)|                1|                       3|                  7|               7|                60|             0|             15|                0|               1|               0|   428|250.43| 250.6|               8|         None|     None|   Steady|         Up|         No|            No|         No|           No|       No|       No|         No|          No|           No|      No|      No|          No|        No|     No|         No|   Down|                 No|                 No|                      No|                     No|                    No|    Ch|        Yes|       <30|\n",
            "|       42570|   77586282|      Caucasian|  Male| [80-90)|                1|                       6|                  7|              10|                55|             1|             31|                0|               0|               0|   428|   411|   427|               8|         None|     None|       No|         No|         No|            No|         No|           No|       No|       No|         No|          No|           No|      No|      No|          No|        No|     No|         No| Steady|                 No|                 No|                      No|                     No|                    No|    No|        Yes|        NO|\n",
            "|       62256|   49726791|AfricanAmerican|Female| [60-70)|                3|                       1|                  2|               1|                49|             5|              2|                0|               0|               0|   518|   998|   627|               8|         None|     None|       No|         No|         No|            No|         No|           No|       No|       No|         No|          No|           No|      No|      No|          No|        No|     No|         No| Steady|                 No|                 No|                      No|                     No|                    No|    No|        Yes|       >30|\n",
            "|       73578|   86328819|AfricanAmerican|  Male| [60-70)|                1|                       3|                  7|              12|                75|             5|             13|                0|               0|               0|   999|   507|   996|               9|         None|     None|       No|         No|         No|            No|         No|           No|       No|       No|         No|          No|           No|      No|      No|          No|        No|     No|         No|     Up|                 No|                 No|                      No|                     No|                    No|    Ch|        Yes|        NO|\n",
            "|       77076|   92519352|AfricanAmerican|  Male| [50-60)|                1|                       1|                  7|               4|                45|             4|             17|                0|               0|               0|   410|   411|   414|               8|         None|     None|       No|         No|         No|            No|         No|           No|   Steady|       No|         No|          No|           No|      No|      No|          No|        No|     No|         No| Steady|                 No|                 No|                      No|                     No|                    No|    Ch|        Yes|       <30|\n",
            "|       84222|  108662661|      Caucasian|Female| [50-60)|                1|                       1|                  7|               3|                29|             0|             11|                0|               0|               0|   682|   174|   250|               3|         None|     None|       No|         No|         No|            No|         No|           No|       No|   Steady|         No|          No|           No|      No|      No|          No|        No|     No|         No|     No|                 No|                 No|                      No|                     No|                    No|    No|        Yes|        NO|\n",
            "|       89682|  107389323|AfricanAmerican|  Male| [70-80)|                1|                       1|                  7|               5|                35|             5|             23|                0|               0|               0|   402|   425|   416|               9|         None|     None|       No|         No|         No|            No|         No|           No|       No|       No|         No|          No|           No|      No|      No|          No|        No|     No|         No| Steady|                 No|                 No|                      No|                     No|                    No|    No|        Yes|       >30|\n",
            "|      148530|   69422211|              ?|  Male| [70-80)|                3|                       6|                  2|               6|                42|             2|             23|                0|               0|               0|   737|   427|   714|               8|         None|     None|       No|         No|         No|            No|         No|           No|       No|     Down|         No|          No|           No|      No|      No|          No|        No|     No|         No| Steady|                 No|                 No|                      No|                     No|                    No|    Ch|        Yes|        NO|\n",
            "+------------+-----------+---------------+------+--------+-----------------+------------------------+-------------------+----------------+------------------+--------------+---------------+-----------------+----------------+----------------+------+------+------+----------------+-------------+---------+---------+-----------+-----------+--------------+-----------+-------------+---------+---------+-----------+------------+-------------+--------+--------+------------+----------+-------+-----------+-------+-------------------+-------------------+------------------------+-----------------------+----------------------+------+-----------+----------+\n",
            "only showing top 20 rows\n",
            "\n"
          ]
        }
      ]
    },
    {
      "cell_type": "code",
      "source": [
        "from pyspark.sql import functions as F"
      ],
      "metadata": {
        "id": "L2Yjf7NNeChM"
      },
      "execution_count": 13,
      "outputs": []
    },
    {
      "cell_type": "code",
      "source": [
        "# 1. Dropping rows where 'diag_1', 'diag_2', and 'diag_3' are all '?'\n",
        "train = train.filter(\n",
        "    ~(F.col('diag_1') == '?') | ~(F.col('diag_2') == '?') | ~(F.col('diag_3') == '?')\n",
        ")\n",
        "\n",
        "# 2. Dropping rows where 'discharge_disposition_id' is 11\n",
        "train = train.filter(F.col('discharge_disposition_id') != 11)\n",
        "\n",
        "# For steps 3 and 4, it's useful to first print out the count of missing values for 'gender' and 'race'\n",
        "# 3. Dropping rows where 'gender' is 'Unknown/Invalid'\n",
        "# Print the count of 'Unknown/Invalid' gender\n",
        "gender_invalid_count = train.filter(F.col('gender') == 'Unknown/Invalid').count()\n",
        "print('gender Unknown/Invalid count:', gender_invalid_count)\n",
        "\n",
        "train = train.filter(F.col('gender') != 'Unknown/Invalid')\n",
        "\n",
        "# 4. Dropping rows where 'race' is '?'\n",
        "# Print the count of '?' race\n",
        "race_missing_count = train.filter(F.col('race') == '?').count()\n",
        "print('race \"?\" count:', race_missing_count)\n",
        "\n",
        "train = train.filter(F.col('race') != '?')"
      ],
      "metadata": {
        "colab": {
          "base_uri": "https://localhost:8080/"
        },
        "id": "yezVE1eXlUEG",
        "outputId": "86c29f45-a655-4cd1-f705-afd74a2ef36d"
      },
      "execution_count": 14,
      "outputs": [
        {
          "output_type": "stream",
          "name": "stdout",
          "text": [
            "gender Unknown/Invalid count: 3\n",
            "race \"?\" count: 2237\n"
          ]
        }
      ]
    },
    {
      "cell_type": "code",
      "source": [
        "# Drop irrelevant variables and high percent missing variables\n",
        "train = train.drop(\"encounter_id\", \"patient_nbr\")\n",
        "\n",
        "# Drop two attributes 'citoglipton' and 'examide' that have the same value across all rows\n",
        "train = train.drop(\"citoglipton\", \"examide\")\n"
      ],
      "metadata": {
        "id": "-uymE_Lblx5o"
      },
      "execution_count": 15,
      "outputs": []
    },
    {
      "cell_type": "code",
      "source": [
        "# Get the number of rows\n",
        "num_rows = train.count()\n",
        "\n",
        "# Get the number of columns\n",
        "num_columns = len(train.columns)\n",
        "\n",
        "print(\"Number of rows:\", num_rows)\n",
        "print(\"Number of columns:\", num_columns)\n"
      ],
      "metadata": {
        "id": "GocuLi80lzds",
        "colab": {
          "base_uri": "https://localhost:8080/"
        },
        "outputId": "87787653-4f54-46eb-a9a9-ed781a83f3ef"
      },
      "execution_count": 16,
      "outputs": [
        {
          "output_type": "stream",
          "name": "stdout",
          "text": [
            "Number of rows: 97883\n",
            "Number of columns: 43\n"
          ]
        }
      ]
    },
    {
      "cell_type": "code",
      "source": [
        "from pyspark.sql import functions as F\n",
        "\n",
        "# Create a new feature 'patient_service'\n",
        "train = train.withColumn('patient_service', F.col('number_outpatient') + F.col('number_emergency') + F.col('number_inpatient'))\n",
        "\n",
        "from pyspark.sql.window import Window\n",
        "from pyspark.sql import functions as F\n",
        "\n",
        "# 1. Calculate the maximum for normalization\n",
        "max_outpatient = train.agg(F.max(\"number_outpatient\").alias(\"max_outpatient\")).collect()[0][\"max_outpatient\"]\n",
        "max_emergency = train.agg(F.max(\"number_emergency\").alias(\"max_emergency\")).collect()[0][\"max_emergency\"]\n",
        "max_inpatient = train.agg(F.max(\"number_inpatient\").alias(\"max_inpatient\")).collect()[0][\"max_inpatient\"]\n",
        "\n",
        "# 2. Normalize each variable and create new columns\n",
        "train = train.withColumn(\"normalized_outpatient\", F.col(\"number_outpatient\") / F.lit(max_outpatient))\n",
        "train = train.withColumn(\"normalized_emergency\", F.col(\"number_emergency\") / F.lit(max_emergency))\n",
        "train = train.withColumn(\"normalized_inpatient\", F.col(\"number_inpatient\") / F.lit(max_inpatient))\n",
        "\n",
        "# Optionally, you can then sum these normalized values to create a combined metric\n",
        "train = train.withColumn(\"combined_service_metric\",\n",
        "                         F.col(\"normalized_outpatient\") +\n",
        "                         F.col(\"normalized_emergency\") +\n",
        "                         F.col(\"normalized_inpatient\"))\n",
        "\n"
      ],
      "metadata": {
        "id": "HZtLT6nHsDyU"
      },
      "execution_count": 17,
      "outputs": []
    },
    {
      "cell_type": "code",
      "source": [
        "train.show()"
      ],
      "metadata": {
        "colab": {
          "base_uri": "https://localhost:8080/"
        },
        "id": "JCBSfYaMv7jS",
        "outputId": "7f38cfc6-93ef-475e-8f12-f2213bf9a938"
      },
      "execution_count": 18,
      "outputs": [
        {
          "output_type": "stream",
          "name": "stdout",
          "text": [
            "+---------------+------+--------+-----------------+------------------------+-------------------+----------------+------------------+--------------+---------------+-----------------+----------------+----------------+------+------+------+----------------+-------------+---------+---------+-----------+-----------+--------------+-----------+-------------+---------+---------+-----------+------------+-------------+--------+--------+------------+----------+-------+-------------------+-------------------+------------------------+-----------------------+----------------------+------+-----------+----------+---------------+---------------------+--------------------+--------------------+-----------------------+\n",
            "|           race|gender|     age|admission_type_id|discharge_disposition_id|admission_source_id|time_in_hospital|num_lab_procedures|num_procedures|num_medications|number_outpatient|number_emergency|number_inpatient|diag_1|diag_2|diag_3|number_diagnoses|max_glu_serum|A1Cresult|metformin|repaglinide|nateglinide|chlorpropamide|glimepiride|acetohexamide|glipizide|glyburide|tolbutamide|pioglitazone|rosiglitazone|acarbose|miglitol|troglitazone|tolazamide|insulin|glyburide-metformin|glipizide-metformin|glimepiride-pioglitazone|metformin-rosiglitazone|metformin-pioglitazone|change|diabetesMed|readmitted|patient_service|normalized_outpatient|normalized_emergency|normalized_inpatient|combined_service_metric|\n",
            "+---------------+------+--------+-----------------+------------------------+-------------------+----------------+------------------+--------------+---------------+-----------------+----------------+----------------+------+------+------+----------------+-------------+---------+---------+-----------+-----------+--------------+-----------+-------------+---------+---------+-----------+------------+-------------+--------+--------+------------+----------+-------+-------------------+-------------------+------------------------+-----------------------+----------------------+------+-----------+----------+---------------+---------------------+--------------------+--------------------+-----------------------+\n",
            "|      Caucasian|Female|  [0-10)|                6|                      25|                  1|               1|                41|             0|              1|                0|               0|               0|250.83|     ?|     ?|               1|         None|     None|       No|         No|         No|            No|         No|           No|       No|       No|         No|          No|           No|      No|      No|          No|        No|     No|                 No|                 No|                      No|                     No|                    No|    No|         No|        NO|              0|                  0.0|                 0.0|                 0.0|                    0.0|\n",
            "|      Caucasian|Female| [10-20)|                1|                       1|                  7|               3|                59|             0|             18|                0|               0|               0|   276|250.01|   255|               9|         None|     None|       No|         No|         No|            No|         No|           No|       No|       No|         No|          No|           No|      No|      No|          No|        No|     Up|                 No|                 No|                      No|                     No|                    No|    Ch|        Yes|       >30|              0|                  0.0|                 0.0|                 0.0|                    0.0|\n",
            "|AfricanAmerican|Female| [20-30)|                1|                       1|                  7|               2|                11|             5|             13|                2|               0|               1|   648|   250|   V27|               6|         None|     None|       No|         No|         No|            No|         No|           No|   Steady|       No|         No|          No|           No|      No|      No|          No|        No|     No|                 No|                 No|                      No|                     No|                    No|    No|        Yes|        NO|              3| 0.047619047619047616|                 0.0|0.047619047619047616|    0.09523809523809523|\n",
            "|      Caucasian|  Male| [30-40)|                1|                       1|                  7|               2|                44|             1|             16|                0|               0|               0|     8|250.43|   403|               7|         None|     None|       No|         No|         No|            No|         No|           No|       No|       No|         No|          No|           No|      No|      No|          No|        No|     Up|                 No|                 No|                      No|                     No|                    No|    Ch|        Yes|        NO|              0|                  0.0|                 0.0|                 0.0|                    0.0|\n",
            "|      Caucasian|  Male| [40-50)|                1|                       1|                  7|               1|                51|             0|              8|                0|               0|               0|   197|   157|   250|               5|         None|     None|       No|         No|         No|            No|         No|           No|   Steady|       No|         No|          No|           No|      No|      No|          No|        No| Steady|                 No|                 No|                      No|                     No|                    No|    Ch|        Yes|        NO|              0|                  0.0|                 0.0|                 0.0|                    0.0|\n",
            "|      Caucasian|  Male| [50-60)|                2|                       1|                  2|               3|                31|             6|             16|                0|               0|               0|   414|   411|   250|               9|         None|     None|       No|         No|         No|            No|         No|           No|       No|       No|         No|          No|           No|      No|      No|          No|        No| Steady|                 No|                 No|                      No|                     No|                    No|    No|        Yes|       >30|              0|                  0.0|                 0.0|                 0.0|                    0.0|\n",
            "|      Caucasian|  Male| [60-70)|                3|                       1|                  2|               4|                70|             1|             21|                0|               0|               0|   414|   411|   V45|               7|         None|     None|   Steady|         No|         No|            No|     Steady|           No|       No|       No|         No|          No|           No|      No|      No|          No|        No| Steady|                 No|                 No|                      No|                     No|                    No|    Ch|        Yes|        NO|              0|                  0.0|                 0.0|                 0.0|                    0.0|\n",
            "|      Caucasian|  Male| [70-80)|                1|                       1|                  7|               5|                73|             0|             12|                0|               0|               0|   428|   492|   250|               8|         None|     None|       No|         No|         No|            No|         No|           No|       No|   Steady|         No|          No|           No|      No|      No|          No|        No|     No|                 No|                 No|                      No|                     No|                    No|    No|        Yes|       >30|              0|                  0.0|                 0.0|                 0.0|                    0.0|\n",
            "|      Caucasian|Female| [80-90)|                2|                       1|                  4|              13|                68|             2|             28|                0|               0|               0|   398|   427|    38|               8|         None|     None|       No|         No|         No|            No|         No|           No|   Steady|       No|         No|          No|           No|      No|      No|          No|        No| Steady|                 No|                 No|                      No|                     No|                    No|    Ch|        Yes|        NO|              0|                  0.0|                 0.0|                 0.0|                    0.0|\n",
            "|      Caucasian|Female|[90-100)|                3|                       3|                  4|              12|                33|             3|             18|                0|               0|               0|   434|   198|   486|               8|         None|     None|       No|         No|         No|            No|         No|           No|       No|       No|         No|          No|       Steady|      No|      No|          No|        No| Steady|                 No|                 No|                      No|                     No|                    No|    Ch|        Yes|        NO|              0|                  0.0|                 0.0|                 0.0|                    0.0|\n",
            "|AfricanAmerican|Female| [40-50)|                1|                       1|                  7|               9|                47|             2|             17|                0|               0|               0| 250.7|   403|   996|               9|         None|     None|       No|         No|         No|            No|         No|           No|       No|       No|         No|          No|           No|      No|      No|          No|        No| Steady|                 No|                 No|                      No|                     No|                    No|    No|        Yes|       >30|              0|                  0.0|                 0.0|                 0.0|                    0.0|\n",
            "|AfricanAmerican|  Male| [60-70)|                2|                       1|                  4|               7|                62|             0|             11|                0|               0|               0|   157|   288|   197|               7|         None|     None|       No|         No|         No|            No|         No|           No|       No|       Up|         No|          No|           No|      No|      No|          No|        No| Steady|                 No|                 No|                      No|                     No|                    No|    Ch|        Yes|       <30|              0|                  0.0|                 0.0|                 0.0|                    0.0|\n",
            "|      Caucasian|Female| [40-50)|                1|                       3|                  7|               7|                60|             0|             15|                0|               1|               0|   428|250.43| 250.6|               8|         None|     None|   Steady|         Up|         No|            No|         No|           No|       No|       No|         No|          No|           No|      No|      No|          No|        No|   Down|                 No|                 No|                      No|                     No|                    No|    Ch|        Yes|       <30|              1|                  0.0|0.013157894736842105|                 0.0|   0.013157894736842105|\n",
            "|      Caucasian|  Male| [80-90)|                1|                       6|                  7|              10|                55|             1|             31|                0|               0|               0|   428|   411|   427|               8|         None|     None|       No|         No|         No|            No|         No|           No|       No|       No|         No|          No|           No|      No|      No|          No|        No| Steady|                 No|                 No|                      No|                     No|                    No|    No|        Yes|        NO|              0|                  0.0|                 0.0|                 0.0|                    0.0|\n",
            "|AfricanAmerican|Female| [60-70)|                3|                       1|                  2|               1|                49|             5|              2|                0|               0|               0|   518|   998|   627|               8|         None|     None|       No|         No|         No|            No|         No|           No|       No|       No|         No|          No|           No|      No|      No|          No|        No| Steady|                 No|                 No|                      No|                     No|                    No|    No|        Yes|       >30|              0|                  0.0|                 0.0|                 0.0|                    0.0|\n",
            "|AfricanAmerican|  Male| [60-70)|                1|                       3|                  7|              12|                75|             5|             13|                0|               0|               0|   999|   507|   996|               9|         None|     None|       No|         No|         No|            No|         No|           No|       No|       No|         No|          No|           No|      No|      No|          No|        No|     Up|                 No|                 No|                      No|                     No|                    No|    Ch|        Yes|        NO|              0|                  0.0|                 0.0|                 0.0|                    0.0|\n",
            "|AfricanAmerican|  Male| [50-60)|                1|                       1|                  7|               4|                45|             4|             17|                0|               0|               0|   410|   411|   414|               8|         None|     None|       No|         No|         No|            No|         No|           No|   Steady|       No|         No|          No|           No|      No|      No|          No|        No| Steady|                 No|                 No|                      No|                     No|                    No|    Ch|        Yes|       <30|              0|                  0.0|                 0.0|                 0.0|                    0.0|\n",
            "|      Caucasian|Female| [50-60)|                1|                       1|                  7|               3|                29|             0|             11|                0|               0|               0|   682|   174|   250|               3|         None|     None|       No|         No|         No|            No|         No|           No|       No|   Steady|         No|          No|           No|      No|      No|          No|        No|     No|                 No|                 No|                      No|                     No|                    No|    No|        Yes|        NO|              0|                  0.0|                 0.0|                 0.0|                    0.0|\n",
            "|AfricanAmerican|  Male| [70-80)|                1|                       1|                  7|               5|                35|             5|             23|                0|               0|               0|   402|   425|   416|               9|         None|     None|       No|         No|         No|            No|         No|           No|       No|       No|         No|          No|           No|      No|      No|          No|        No| Steady|                 No|                 No|                      No|                     No|                    No|    No|        Yes|       >30|              0|                  0.0|                 0.0|                 0.0|                    0.0|\n",
            "|AfricanAmerican|Female| [70-80)|                2|                       1|                  4|               2|                47|             0|             12|                0|               0|               0|   410|   401|   582|               8|         None|     None|       No|         No|         No|            No|         No|           No|       No|       No|         No|          No|           No|      No|      No|          No|        No|     No|                 No|                 No|                      No|                     No|                    No|    No|         No|        NO|              0|                  0.0|                 0.0|                 0.0|                    0.0|\n",
            "+---------------+------+--------+-----------------+------------------------+-------------------+----------------+------------------+--------------+---------------+-----------------+----------------+----------------+------+------+------+----------------+-------------+---------+---------+-----------+-----------+--------------+-----------+-------------+---------+---------+-----------+------------+-------------+--------+--------+------------+----------+-------+-------------------+-------------------+------------------------+-----------------------+----------------------+------+-----------+----------+---------------+---------------------+--------------------+--------------------+-----------------------+\n",
            "only showing top 20 rows\n",
            "\n"
          ]
        }
      ]
    },
    {
      "cell_type": "code",
      "source": [
        "from pyspark.sql import functions as F\n",
        "from functools import reduce\n",
        "\n",
        "# Assuming train is your PySpark DataFrame and keys are defined as before\n",
        "keys = ['metformin', 'repaglinide', 'nateglinide', 'chlorpropamide', 'glimepiride', 'glipizide', 'glyburide',\n",
        "        'pioglitazone', 'rosiglitazone', 'acarbose', 'miglitol', 'insulin', 'glyburide-metformin', 'tolazamide',\n",
        "        'metformin-pioglitazone', 'metformin-rosiglitazone', 'glimepiride-pioglitazone',\n",
        "        'glipizide-metformin', 'troglitazone', 'tolbutamide', 'acetohexamide']\n",
        "\n",
        "# Recode the medication use into a binary variable for each medication column\n",
        "for key in keys:\n",
        "    col_name = key + 'new'\n",
        "    train = train.withColumn(col_name, F.when(F.col(key).isin(['No', 'Steady']), 0).otherwise(1))\n",
        "\n",
        "# Use reduce to sum across the new columns for each row\n",
        "sum_cols_expr = reduce(lambda a, b: a + b, [F.col(key + 'new') for key in keys])\n",
        "train = train.withColumn('medicine_change', sum_cols_expr)\n",
        "\n",
        "# Drop the temporary new columns\n",
        "train = train.drop(*[key + 'new' for key in keys])\n"
      ],
      "metadata": {
        "id": "Jl-Rzf5fwCK8"
      },
      "execution_count": 19,
      "outputs": []
    },
    {
      "cell_type": "code",
      "source": [
        "train.show()"
      ],
      "metadata": {
        "colab": {
          "base_uri": "https://localhost:8080/"
        },
        "id": "UjF8yF2__VSa",
        "outputId": "7fbb76e5-92eb-4194-946b-ea7c13e2f357"
      },
      "execution_count": 20,
      "outputs": [
        {
          "output_type": "stream",
          "name": "stdout",
          "text": [
            "+---------------+------+--------+-----------------+------------------------+-------------------+----------------+------------------+--------------+---------------+-----------------+----------------+----------------+------+------+------+----------------+-------------+---------+---------+-----------+-----------+--------------+-----------+-------------+---------+---------+-----------+------------+-------------+--------+--------+------------+----------+-------+-------------------+-------------------+------------------------+-----------------------+----------------------+------+-----------+----------+---------------+---------------------+--------------------+--------------------+-----------------------+---------------+\n",
            "|           race|gender|     age|admission_type_id|discharge_disposition_id|admission_source_id|time_in_hospital|num_lab_procedures|num_procedures|num_medications|number_outpatient|number_emergency|number_inpatient|diag_1|diag_2|diag_3|number_diagnoses|max_glu_serum|A1Cresult|metformin|repaglinide|nateglinide|chlorpropamide|glimepiride|acetohexamide|glipizide|glyburide|tolbutamide|pioglitazone|rosiglitazone|acarbose|miglitol|troglitazone|tolazamide|insulin|glyburide-metformin|glipizide-metformin|glimepiride-pioglitazone|metformin-rosiglitazone|metformin-pioglitazone|change|diabetesMed|readmitted|patient_service|normalized_outpatient|normalized_emergency|normalized_inpatient|combined_service_metric|medicine_change|\n",
            "+---------------+------+--------+-----------------+------------------------+-------------------+----------------+------------------+--------------+---------------+-----------------+----------------+----------------+------+------+------+----------------+-------------+---------+---------+-----------+-----------+--------------+-----------+-------------+---------+---------+-----------+------------+-------------+--------+--------+------------+----------+-------+-------------------+-------------------+------------------------+-----------------------+----------------------+------+-----------+----------+---------------+---------------------+--------------------+--------------------+-----------------------+---------------+\n",
            "|      Caucasian|Female|  [0-10)|                6|                      25|                  1|               1|                41|             0|              1|                0|               0|               0|250.83|     ?|     ?|               1|         None|     None|       No|         No|         No|            No|         No|           No|       No|       No|         No|          No|           No|      No|      No|          No|        No|     No|                 No|                 No|                      No|                     No|                    No|    No|         No|        NO|              0|                  0.0|                 0.0|                 0.0|                    0.0|              0|\n",
            "|      Caucasian|Female| [10-20)|                1|                       1|                  7|               3|                59|             0|             18|                0|               0|               0|   276|250.01|   255|               9|         None|     None|       No|         No|         No|            No|         No|           No|       No|       No|         No|          No|           No|      No|      No|          No|        No|     Up|                 No|                 No|                      No|                     No|                    No|    Ch|        Yes|       >30|              0|                  0.0|                 0.0|                 0.0|                    0.0|              1|\n",
            "|AfricanAmerican|Female| [20-30)|                1|                       1|                  7|               2|                11|             5|             13|                2|               0|               1|   648|   250|   V27|               6|         None|     None|       No|         No|         No|            No|         No|           No|   Steady|       No|         No|          No|           No|      No|      No|          No|        No|     No|                 No|                 No|                      No|                     No|                    No|    No|        Yes|        NO|              3| 0.047619047619047616|                 0.0|0.047619047619047616|    0.09523809523809523|              0|\n",
            "|      Caucasian|  Male| [30-40)|                1|                       1|                  7|               2|                44|             1|             16|                0|               0|               0|     8|250.43|   403|               7|         None|     None|       No|         No|         No|            No|         No|           No|       No|       No|         No|          No|           No|      No|      No|          No|        No|     Up|                 No|                 No|                      No|                     No|                    No|    Ch|        Yes|        NO|              0|                  0.0|                 0.0|                 0.0|                    0.0|              1|\n",
            "|      Caucasian|  Male| [40-50)|                1|                       1|                  7|               1|                51|             0|              8|                0|               0|               0|   197|   157|   250|               5|         None|     None|       No|         No|         No|            No|         No|           No|   Steady|       No|         No|          No|           No|      No|      No|          No|        No| Steady|                 No|                 No|                      No|                     No|                    No|    Ch|        Yes|        NO|              0|                  0.0|                 0.0|                 0.0|                    0.0|              0|\n",
            "|      Caucasian|  Male| [50-60)|                2|                       1|                  2|               3|                31|             6|             16|                0|               0|               0|   414|   411|   250|               9|         None|     None|       No|         No|         No|            No|         No|           No|       No|       No|         No|          No|           No|      No|      No|          No|        No| Steady|                 No|                 No|                      No|                     No|                    No|    No|        Yes|       >30|              0|                  0.0|                 0.0|                 0.0|                    0.0|              0|\n",
            "|      Caucasian|  Male| [60-70)|                3|                       1|                  2|               4|                70|             1|             21|                0|               0|               0|   414|   411|   V45|               7|         None|     None|   Steady|         No|         No|            No|     Steady|           No|       No|       No|         No|          No|           No|      No|      No|          No|        No| Steady|                 No|                 No|                      No|                     No|                    No|    Ch|        Yes|        NO|              0|                  0.0|                 0.0|                 0.0|                    0.0|              0|\n",
            "|      Caucasian|  Male| [70-80)|                1|                       1|                  7|               5|                73|             0|             12|                0|               0|               0|   428|   492|   250|               8|         None|     None|       No|         No|         No|            No|         No|           No|       No|   Steady|         No|          No|           No|      No|      No|          No|        No|     No|                 No|                 No|                      No|                     No|                    No|    No|        Yes|       >30|              0|                  0.0|                 0.0|                 0.0|                    0.0|              0|\n",
            "|      Caucasian|Female| [80-90)|                2|                       1|                  4|              13|                68|             2|             28|                0|               0|               0|   398|   427|    38|               8|         None|     None|       No|         No|         No|            No|         No|           No|   Steady|       No|         No|          No|           No|      No|      No|          No|        No| Steady|                 No|                 No|                      No|                     No|                    No|    Ch|        Yes|        NO|              0|                  0.0|                 0.0|                 0.0|                    0.0|              0|\n",
            "|      Caucasian|Female|[90-100)|                3|                       3|                  4|              12|                33|             3|             18|                0|               0|               0|   434|   198|   486|               8|         None|     None|       No|         No|         No|            No|         No|           No|       No|       No|         No|          No|       Steady|      No|      No|          No|        No| Steady|                 No|                 No|                      No|                     No|                    No|    Ch|        Yes|        NO|              0|                  0.0|                 0.0|                 0.0|                    0.0|              0|\n",
            "|AfricanAmerican|Female| [40-50)|                1|                       1|                  7|               9|                47|             2|             17|                0|               0|               0| 250.7|   403|   996|               9|         None|     None|       No|         No|         No|            No|         No|           No|       No|       No|         No|          No|           No|      No|      No|          No|        No| Steady|                 No|                 No|                      No|                     No|                    No|    No|        Yes|       >30|              0|                  0.0|                 0.0|                 0.0|                    0.0|              0|\n",
            "|AfricanAmerican|  Male| [60-70)|                2|                       1|                  4|               7|                62|             0|             11|                0|               0|               0|   157|   288|   197|               7|         None|     None|       No|         No|         No|            No|         No|           No|       No|       Up|         No|          No|           No|      No|      No|          No|        No| Steady|                 No|                 No|                      No|                     No|                    No|    Ch|        Yes|       <30|              0|                  0.0|                 0.0|                 0.0|                    0.0|              1|\n",
            "|      Caucasian|Female| [40-50)|                1|                       3|                  7|               7|                60|             0|             15|                0|               1|               0|   428|250.43| 250.6|               8|         None|     None|   Steady|         Up|         No|            No|         No|           No|       No|       No|         No|          No|           No|      No|      No|          No|        No|   Down|                 No|                 No|                      No|                     No|                    No|    Ch|        Yes|       <30|              1|                  0.0|0.013157894736842105|                 0.0|   0.013157894736842105|              2|\n",
            "|      Caucasian|  Male| [80-90)|                1|                       6|                  7|              10|                55|             1|             31|                0|               0|               0|   428|   411|   427|               8|         None|     None|       No|         No|         No|            No|         No|           No|       No|       No|         No|          No|           No|      No|      No|          No|        No| Steady|                 No|                 No|                      No|                     No|                    No|    No|        Yes|        NO|              0|                  0.0|                 0.0|                 0.0|                    0.0|              0|\n",
            "|AfricanAmerican|Female| [60-70)|                3|                       1|                  2|               1|                49|             5|              2|                0|               0|               0|   518|   998|   627|               8|         None|     None|       No|         No|         No|            No|         No|           No|       No|       No|         No|          No|           No|      No|      No|          No|        No| Steady|                 No|                 No|                      No|                     No|                    No|    No|        Yes|       >30|              0|                  0.0|                 0.0|                 0.0|                    0.0|              0|\n",
            "|AfricanAmerican|  Male| [60-70)|                1|                       3|                  7|              12|                75|             5|             13|                0|               0|               0|   999|   507|   996|               9|         None|     None|       No|         No|         No|            No|         No|           No|       No|       No|         No|          No|           No|      No|      No|          No|        No|     Up|                 No|                 No|                      No|                     No|                    No|    Ch|        Yes|        NO|              0|                  0.0|                 0.0|                 0.0|                    0.0|              1|\n",
            "|AfricanAmerican|  Male| [50-60)|                1|                       1|                  7|               4|                45|             4|             17|                0|               0|               0|   410|   411|   414|               8|         None|     None|       No|         No|         No|            No|         No|           No|   Steady|       No|         No|          No|           No|      No|      No|          No|        No| Steady|                 No|                 No|                      No|                     No|                    No|    Ch|        Yes|       <30|              0|                  0.0|                 0.0|                 0.0|                    0.0|              0|\n",
            "|      Caucasian|Female| [50-60)|                1|                       1|                  7|               3|                29|             0|             11|                0|               0|               0|   682|   174|   250|               3|         None|     None|       No|         No|         No|            No|         No|           No|       No|   Steady|         No|          No|           No|      No|      No|          No|        No|     No|                 No|                 No|                      No|                     No|                    No|    No|        Yes|        NO|              0|                  0.0|                 0.0|                 0.0|                    0.0|              0|\n",
            "|AfricanAmerican|  Male| [70-80)|                1|                       1|                  7|               5|                35|             5|             23|                0|               0|               0|   402|   425|   416|               9|         None|     None|       No|         No|         No|            No|         No|           No|       No|       No|         No|          No|           No|      No|      No|          No|        No| Steady|                 No|                 No|                      No|                     No|                    No|    No|        Yes|       >30|              0|                  0.0|                 0.0|                 0.0|                    0.0|              0|\n",
            "|AfricanAmerican|Female| [70-80)|                2|                       1|                  4|               2|                47|             0|             12|                0|               0|               0|   410|   401|   582|               8|         None|     None|       No|         No|         No|            No|         No|           No|       No|       No|         No|          No|           No|      No|      No|          No|        No|     No|                 No|                 No|                      No|                     No|                    No|    No|         No|        NO|              0|                  0.0|                 0.0|                 0.0|                    0.0|              0|\n",
            "+---------------+------+--------+-----------------+------------------------+-------------------+----------------+------------------+--------------+---------------+-----------------+----------------+----------------+------+------+------+----------------+-------------+---------+---------+-----------+-----------+--------------+-----------+-------------+---------+---------+-----------+------------+-------------+--------+--------+------------+----------+-------+-------------------+-------------------+------------------------+-----------------------+----------------------+------+-----------+----------+---------------+---------------------+--------------------+--------------------+-----------------------+---------------+\n",
            "only showing top 20 rows\n",
            "\n"
          ]
        }
      ]
    },
    {
      "cell_type": "code",
      "source": [
        "from pyspark.sql import functions as F\n",
        "\n",
        "# Count the occurrences of each unique value in the 'medicine_change' column\n",
        "value_counts = train.groupBy('medicine_change').count().orderBy(F.desc('count'))\n",
        "\n",
        "# Show the result\n",
        "value_counts.show()\n"
      ],
      "metadata": {
        "colab": {
          "base_uri": "https://localhost:8080/"
        },
        "id": "UjDKf36TAGXv",
        "outputId": "0b6f1112-270c-4f8e-f829-83029fb3c11d"
      },
      "execution_count": 22,
      "outputs": [
        {
          "output_type": "stream",
          "name": "stdout",
          "text": [
            "+---------------+-----+\n",
            "|medicine_change|count|\n",
            "+---------------+-----+\n",
            "|              0|71177|\n",
            "|              1|25307|\n",
            "|              2| 1288|\n",
            "|              3|  106|\n",
            "|              4|    5|\n",
            "+---------------+-----+\n",
            "\n"
          ]
        }
      ]
    },
    {
      "cell_type": "code",
      "source": [
        "from pyspark.sql import functions as F\n",
        "\n",
        "# Assuming 'keys' list is defined as before and 'train' is your DataFrame\n",
        "\n",
        "# Replace 'No', 'Steady', 'Up', 'Down' with 0 or 1\n",
        "for key in keys:\n",
        "    train = train.withColumn(key,\n",
        "                             F.when(F.col(key) == 'No', 0)\n",
        "                             .otherwise(1))\n",
        "\n",
        "# Sum the binary indicators to get the total number of medications used\n",
        "sum_cols_expr = sum([F.col(key) for key in keys])\n",
        "train = train.withColumn('num_med', sum_cols_expr)\n",
        "\n",
        "# Count the occurrences of each unique value in 'num_med'\n",
        "value_counts_num_med = train.groupBy('num_med').count().orderBy(F.desc('count'))\n",
        "\n",
        "# Show the result\n",
        "value_counts_num_med.show()\n"
      ],
      "metadata": {
        "colab": {
          "base_uri": "https://localhost:8080/"
        },
        "id": "e9U59ovYBNRQ",
        "outputId": "86f2174f-09de-4db1-b4ad-0817e7dc9810"
      },
      "execution_count": 23,
      "outputs": [
        {
          "output_type": "stream",
          "name": "stdout",
          "text": [
            "+-------+-----+\n",
            "|num_med|count|\n",
            "+-------+-----+\n",
            "|      1|45365|\n",
            "|      0|22454|\n",
            "|      2|21165|\n",
            "|      3| 7537|\n",
            "|      4| 1300|\n",
            "|      5|   57|\n",
            "|      6|    5|\n",
            "+-------+-----+\n",
            "\n"
          ]
        }
      ]
    },
    {
      "cell_type": "code",
      "source": [],
      "metadata": {
        "id": "WWph6ag1D8EU"
      },
      "execution_count": null,
      "outputs": []
    }
  ]
}